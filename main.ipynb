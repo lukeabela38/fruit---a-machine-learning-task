{
 "cells": [
  {
   "cell_type": "code",
   "execution_count": null,
   "id": "937a54f5",
   "metadata": {},
   "outputs": [],
   "source": [
    "import pandas as pd\n",
    "import seaborn as sns\n",
    "import matplotlib.pyplot as plt\n",
    "import numpy as np\n",
    "from scipy import stats\n",
    "from sklearn.model_selection import train_test_split\n",
    "from sklearn.ensemble import RandomForestClassifier \n",
    "from sklearn import metrics"
   ]
  },
  {
   "cell_type": "code",
   "execution_count": null,
   "id": "7cf5fdaa",
   "metadata": {},
   "outputs": [],
   "source": [
    "# Define list of Fruits\n",
    "FRUITS = [\"apple\", \"orange\", \"lemon\"]"
   ]
  },
  {
   "cell_type": "code",
   "execution_count": null,
   "id": "f3b9f0d1",
   "metadata": {},
   "outputs": [],
   "source": [
    "# Define the data points titles\n",
    "VARIABLES = [\"width\", \"weight\", \"height\", \"color_score\"]"
   ]
  },
  {
   "cell_type": "code",
   "execution_count": null,
   "id": "e3f3dd95",
   "metadata": {
    "lines_to_next_cell": 1
   },
   "outputs": [],
   "source": [
    "# Create a map of the fruit to its index \n",
    "FRUIT2LABEL = {\n",
    "    \"apple\" : 1,\n",
    "    \"orange\": 2,\n",
    "    \"lemon\": 3\n",
    "}"
   ]
  },
  {
   "cell_type": "code",
   "execution_count": null,
   "id": "34209016",
   "metadata": {
    "lines_to_next_cell": 1
   },
   "outputs": [],
   "source": [
    "# Load in our CSV Data\n",
    "def import_data(path_to_data):\n",
    "    return pd.read_csv(path_to_data)"
   ]
  },
  {
   "cell_type": "code",
   "execution_count": null,
   "id": "45dab116",
   "metadata": {
    "lines_to_next_cell": 1
   },
   "outputs": [],
   "source": [
    "# Create a correlation matrix to help us interpret our data\n",
    "def correlation_matrix(df_to_correlate):\n",
    "\n",
    "    # generate correlation matrix\n",
    "    df_to_correlate = df_to_correlate.drop([\"fruit_name\", \"fruit_label\"], axis=1)\n",
    "    correlation_matrix = df_to_correlate.corr(method=\"pearson\")\n",
    "\n",
    "    # plot correlation matrix\n",
    "    _, ax = plt.subplots()\n",
    "    sns.heatmap(correlation_matrix, annot=True, fmt='.4f', \n",
    "                cmap=plt.get_cmap('coolwarm'), cbar=False, ax=ax)\n",
    "    ax.set_yticklabels(ax.get_yticklabels(), rotation=\"horizontal\")\n",
    "\n",
    "    # save correlation matrix\n",
    "    plt.savefig('artifacts/correlation_matrices/matrix.png', bbox_inches='tight', pad_inches=0.5)"
   ]
  },
  {
   "cell_type": "code",
   "execution_count": null,
   "id": "809d541a",
   "metadata": {
    "lines_to_next_cell": 1
   },
   "outputs": [],
   "source": [
    "# generate all our plots\n",
    "def scatter_plot(df_to_plot):\n",
    "\n",
    "    colour = \"fruit_name\"\n",
    "\n",
    "    for i in range(len(VARIABLES)):\n",
    "        for j in range(len(VARIABLES)):\n",
    "            if VARIABLES[i] != VARIABLES[j]:\n",
    "                x_axis = VARIABLES[i]\n",
    "                y_axis = VARIABLES[j]\n",
    "\n",
    "                plt.figure(figsize=(8, 6))\n",
    "                sns.scatterplot(data=df_to_plot, x=x_axis, y=y_axis, hue=colour)\n",
    "                plt.savefig(f\"artifacts/scatter_plots/{x_axis}_vs_{y_axis}.png\")"
   ]
  },
  {
   "cell_type": "code",
   "execution_count": null,
   "id": "97759f1c",
   "metadata": {
    "lines_to_next_cell": 1
   },
   "outputs": [],
   "source": [
    "# use zscore to normalise our numeric data.\n",
    "# https://www.geeksforgeeks.org/data-normalization-in-data-mining/\n",
    "# We also shuffle our data (good practice)\n",
    "def preprocess_data(df_to_process):\n",
    "\n",
    "    for variable in VARIABLES:\n",
    "        df_to_process[variable] = stats.zscore(df_to_process[variable])\n",
    "    df_to_process = df_to_process.sample(frac = 1) # Shuffle\n",
    "    return df_to_process"
   ]
  },
  {
   "cell_type": "code",
   "execution_count": null,
   "id": "6b62a2d7",
   "metadata": {
    "lines_to_next_cell": 1
   },
   "outputs": [],
   "source": [
    "# split data into test set and train set\n",
    "def split_data(df_to_split):\n",
    "    train_df, test_df = train_test_split(df_to_split, test_size=0.2)\n",
    "    \n",
    "    y_train = train_df[\"fruit_label\"].to_numpy()\n",
    "    y_test = test_df[\"fruit_label\"].to_numpy()\n",
    "\n",
    "    x_train = train_df.drop([\"fruit_name\", \"fruit_label\"], axis=1).to_numpy()\n",
    "    x_test = test_df.drop([\"fruit_name\", \"fruit_label\"], axis=1).to_numpy()\n",
    "\n",
    "    return x_train, y_train, x_test, y_test"
   ]
  },
  {
   "cell_type": "code",
   "execution_count": null,
   "id": "1c877615",
   "metadata": {
    "lines_to_next_cell": 1
   },
   "outputs": [],
   "source": [
    "# train classifier\n",
    "def binary_classifier_train(x_train, y_train, fruit_to_classify):\n",
    "\n",
    "    # logic to ensure we only have 2 possible results - fruit (1) or not fruit (0)\n",
    "    fruit_index = FRUIT2LABEL[fruit_to_classify]\n",
    "    for i in range(len(y_train)):\n",
    "        if y_train[i] != fruit_index:\n",
    "            y_train[i] = 0\n",
    "    y_train = y_train/np.max(y_train)\n",
    "\n",
    "    clf = RandomForestClassifier()   \n",
    "    clf.fit(x_train, y_train) \n",
    "    return clf"
   ]
  },
  {
   "cell_type": "code",
   "execution_count": null,
   "id": "d740ec25",
   "metadata": {
    "lines_to_next_cell": 1
   },
   "outputs": [],
   "source": [
    "# test classifier\n",
    "def binary_classifier_test(clf, x_test, y_test, fruit_to_classify):\n",
    "\n",
    "    # logic to ensure we only have 2 possible results - fruit (1) or not fruit (0)\n",
    "    fruit_index = FRUIT2LABEL[fruit_to_classify]\n",
    "    for i in range(len(y_test)):\n",
    "        if y_test[i] != fruit_index:\n",
    "            y_test[i] = 0\n",
    "    y_test = y_test/np.max(y_test)\n",
    "    y_pred = clf.predict(x_test) \n",
    "\n",
    "    return y_pred"
   ]
  },
  {
   "cell_type": "code",
   "execution_count": null,
   "id": "85b95762",
   "metadata": {
    "lines_to_next_cell": 1
   },
   "outputs": [],
   "source": [
    "# results include confusion matrix\n",
    "def binary_classifier_results(y_test, y_pred, fruit_to_classify):\n",
    "\n",
    "    y_test = y_test/np.max(y_test)\n",
    "\n",
    "    f1_score = round(metrics.f1_score(y_test, y_pred, average='macro'),4)\n",
    "    accuracy = round(metrics.accuracy_score(y_test, y_pred), 4)\n",
    "\n",
    "    plt.figure(figsize=(8, 6))\n",
    "    confusion_matrix = metrics.confusion_matrix(y_test, y_pred)\n",
    "    cm_display = metrics.ConfusionMatrixDisplay(confusion_matrix = confusion_matrix, display_labels = [False, True])\n",
    "    cm_display.plot()\n",
    "\n",
    "    plt.savefig(f\"artifacts/confusion_matrices/{fruit_to_classify}_{accuracy}_{f1_score}.png\")"
   ]
  },
  {
   "cell_type": "code",
   "execution_count": null,
   "id": "ccad34a0",
   "metadata": {
    "lines_to_next_cell": 1
   },
   "outputs": [],
   "source": [
    "def multi_classifier_train(x_train, y_train):\n",
    "\n",
    "    clf = RandomForestClassifier(n_estimators=1000)   \n",
    "    clf.fit(x_train, y_train) \n",
    "    return clf"
   ]
  },
  {
   "cell_type": "code",
   "execution_count": null,
   "id": "53927859",
   "metadata": {
    "lines_to_next_cell": 1
   },
   "outputs": [],
   "source": [
    "def multi_classifier_test(clf, x_test, y_test):\n",
    "\n",
    "    y_test = y_test/np.max(y_test)\n",
    "    y_pred = clf.predict(x_test) \n",
    "\n",
    "    return y_pred"
   ]
  },
  {
   "cell_type": "code",
   "execution_count": null,
   "id": "3fb29c9a",
   "metadata": {
    "lines_to_next_cell": 1
   },
   "outputs": [],
   "source": [
    "def multi_classifier_results(y_test, y_pred):\n",
    "\n",
    "    f1_score = round(metrics.f1_score(y_test, y_pred, average='macro'),4)\n",
    "    accuracy = round(metrics.accuracy_score(y_test, y_pred), 4)\n",
    "\n",
    "    plt.figure(figsize=(8, 6))\n",
    "    confusion_matrix = metrics.confusion_matrix(y_test, y_pred)\n",
    "    cm_display = metrics.ConfusionMatrixDisplay(confusion_matrix = confusion_matrix, display_labels = [\"Apple\", \"Orange\", \"Lemon\"])\n",
    "    cm_display.plot()\n",
    "\n",
    "    plt.savefig(f\"artifacts/confusion_matrices/multiclass_{accuracy}_{f1_score}.png\")"
   ]
  },
  {
   "cell_type": "code",
   "execution_count": null,
   "id": "6890778b",
   "metadata": {
    "lines_to_next_cell": 1
   },
   "outputs": [],
   "source": [
    "def main() -> None:\n",
    "\n",
    "    ## Task 1\n",
    "    path_to_data = \"data/fruitDataset.csv\"\n",
    "    df = import_data(path_to_data)\n",
    "\n",
    "    correlation_matrix(df)\n",
    "    scatter_plot(df)\n",
    "\n",
    "    ## Task 2\n",
    "    for fruit_to_classify in FRUITS:\n",
    "        processed_df = preprocess_data(df)\n",
    "        x_train, y_train, x_test, y_test = split_data(processed_df)\n",
    "\n",
    "        clf = binary_classifier_train(x_train, y_train, fruit_to_classify)\n",
    "        y_pred = binary_classifier_test(clf, x_test, y_test, fruit_to_classify)\n",
    "        assert len(set(y_pred)) == 2 ## make sure we have exactly 2 outputs to satisfy binary classifier\n",
    "        binary_classifier_results(y_test, y_pred, fruit_to_classify)\n",
    "\n",
    "    ## Task 3\n",
    "    x_train, y_train, x_test, y_test = split_data(processed_df)\n",
    "\n",
    "    clf = multi_classifier_train(x_train, y_train)\n",
    "    y_pred = multi_classifier_test(clf, x_test, y_test)\n",
    "    assert len(set(y_pred)) == 3 ## make sure we have exactly 2 outputs to satisfy multi class classifier\n",
    "\n",
    "    multi_classifier_results(y_test, y_pred)\n",
    "\n",
    "    return 0"
   ]
  },
  {
   "cell_type": "code",
   "execution_count": null,
   "id": "759078e4",
   "metadata": {},
   "outputs": [],
   "source": [
    "if __name__ == \"__main__\":\n",
    "    main()"
   ]
  }
 ],
 "metadata": {
  "jupytext": {
   "cell_metadata_filter": "-all",
   "main_language": "python",
   "notebook_metadata_filter": "-all"
  }
 },
 "nbformat": 4,
 "nbformat_minor": 5
}
